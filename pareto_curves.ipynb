{
 "cells": [
  {
   "cell_type": "code",
   "execution_count": null,
   "metadata": {},
   "outputs": [],
   "source": [
    "import numpy as np\n",
    "import matplotlib.pyplot as plt\n",
    "import torch\n",
    "import pandas as pd"
   ]
  },
  {
   "cell_type": "code",
   "execution_count": null,
   "metadata": {},
   "outputs": [],
   "source": [
    "# csv = pd.read_csv(\"pythia_14_saes.csv\")\n",
    "# csv = csv[[\"alpha\", \"p\", \"mse\", \"l0\", \"mse2\", \"l02\"]].dropna()\n",
    "\n",
    "\n",
    "csv = pd.read_csv(\"gpt2_saes_lp^p.csv\")\n",
    "csv = csv[[\"alpha\", \"p\", \"mse\", \"l0\"]].dropna()"
   ]
  },
  {
   "cell_type": "code",
   "execution_count": null,
   "metadata": {},
   "outputs": [],
   "source": [
    "csv"
   ]
  },
  {
   "cell_type": "code",
   "execution_count": null,
   "metadata": {},
   "outputs": [],
   "source": [
    "#filter for p norms:\n",
    "for p in [0.2,0.4,0.6,0.8,1]:\n",
    "    df_filtered = csv[csv[\"p\"]==p]\n",
    "    l0 = df_filtered[\"l0\"]\n",
    "    mse = df_filtered[\"mse\"]\n",
    "    # l0 = (df_filtered[\"l0\"] + df_filtered[\"l02\"])/2\n",
    "    # mse = (df_filtered[\"mse\"] + df_filtered[\"mse2\"])/2\n",
    "    plt.plot(l0, np.log10(mse), label=f\"L{p}\")\n",
    "\n",
    "plt.axvline(768, linestyle=\"dashed\")\n",
    "# plt.axvline(100, linestyle=\"dashed\")\n",
    "plt.xlabel(\"L0\")\n",
    "plt.ylabel(\"Log10(MSE)\")\n",
    "plt.legend()\n",
    "plt.title(\"GPT2 SAEs\")\n",
    "plt.xlim(0,150)\n",
    "plt.ylim(-2.5,-1.5)"
   ]
  },
  {
   "cell_type": "code",
   "execution_count": null,
   "metadata": {},
   "outputs": [],
   "source": []
  }
 ],
 "metadata": {
  "kernelspec": {
   "display_name": "mats_sae_training",
   "language": "python",
   "name": "python3"
  },
  "language_info": {
   "codemirror_mode": {
    "name": "ipython",
    "version": 3
   },
   "file_extension": ".py",
   "mimetype": "text/x-python",
   "name": "python",
   "nbconvert_exporter": "python",
   "pygments_lexer": "ipython3",
   "version": "3.11.8"
  }
 },
 "nbformat": 4,
 "nbformat_minor": 2
}
