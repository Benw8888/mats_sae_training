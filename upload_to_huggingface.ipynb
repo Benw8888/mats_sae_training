{
 "cells": [
  {
   "cell_type": "markdown",
   "metadata": {},
   "source": [
    "# Upload"
   ]
  },
  {
   "cell_type": "code",
   "execution_count": null,
   "metadata": {},
   "outputs": [],
   "source": [
    "from huggingface_hub import HfApi\n",
    "api = HfApi()\n",
    "\n",
    "uuid_str = \"hebwcqli\"\n",
    "repo_id = \"Benw8888/lp_saes\"\n",
    "local_folder = f\"/root/mats_sae_training/checkpoints/{uuid_str}\"\n",
    "hf_folder = f\"{uuid_str}\"\n",
    "api.upload_folder(\n",
    "    folder_path=local_folder,\n",
    "    path_in_repo=hf_folder,\n",
    "    repo_id=repo_id,\n",
    "    repo_type=\"model\",\n",
    ")\n"
   ]
  },
  {
   "cell_type": "markdown",
   "metadata": {},
   "source": [
    "# Download"
   ]
  },
  {
   "cell_type": "code",
   "execution_count": null,
   "metadata": {},
   "outputs": [],
   "source": [
    "from huggingface_hub import HfApi, hf_hub_download\n",
    "import os\n",
    "import torch\n",
    "\n",
    "# api = HfApi()\n",
    "\n",
    "# hf_hub_download(repo_id=REPO_ID, filename=FILENAME)\n",
    "\n",
    "uuid_str = \"uloaub10\"\n",
    "repo_id = \"Benw8888/lp_saes\"\n",
    "local_folder = f\"/root/mats_sae_training/checkpoints/{uuid_str}\"\n",
    "hf_folder = f\"{uuid_str}\"\n",
    "file_strings = [\n",
    "    \"final_sae_group_EleutherAI_pythia-14m_blocks.3.hook_resid_pre_8192_log_feature_sparsity.pt\",\n",
    "    \"final_sae_group_EleutherAI_pythia-14m_blocks.3.hook_resid_pre_8192.pt\",\n",
    "]\n",
    "\n",
    "for fs in file_strings:\n",
    "    if not os.path.exists(local_folder):\n",
    "        os.makedirs(local_folder)\n",
    "    hf_local_path = hf_hub_download(\n",
    "        # folder_path=local_folder,\n",
    "        filename=f\"{hf_folder}/{fs}\",\n",
    "        repo_id=repo_id,\n",
    "        repo_type=\"model\",\n",
    "    )\n",
    "    obj = torch.load(hf_local_path)\n",
    "    torch.save(obj, f\"{local_folder}/{fs}\")\n",
    "#final_sae_group_gpt2-small_blocks.6.hook_resid_pre_49152_log_feature_sparsity.pt\n",
    "#final_sae_group_gpt2-small_blocks.6.hook_resid_pre_49152.pt\n",
    "\n",
    "#final_sae_group_EleutherAI_pythia-14m_blocks.3.hook_resid_pre_8192_log_feature_sparsity.pt\n",
    "#final_sae_group_EleutherAI_pythia-14m_blocks.3.hook_resid_pre_8192.pt\n",
    "\n"
   ]
  },
  {
   "cell_type": "code",
   "execution_count": null,
   "metadata": {},
   "outputs": [],
   "source": []
  }
 ],
 "metadata": {
  "kernelspec": {
   "display_name": "mats_sae_training",
   "language": "python",
   "name": "python3"
  },
  "language_info": {
   "codemirror_mode": {
    "name": "ipython",
    "version": 3
   },
   "file_extension": ".py",
   "mimetype": "text/x-python",
   "name": "python",
   "nbconvert_exporter": "python",
   "pygments_lexer": "ipython3",
   "version": "3.11.8"
  }
 },
 "nbformat": 4,
 "nbformat_minor": 2
}
