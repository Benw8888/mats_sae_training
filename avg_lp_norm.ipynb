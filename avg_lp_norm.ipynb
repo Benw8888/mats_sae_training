{
 "cells": [
  {
   "cell_type": "code",
   "execution_count": null,
   "metadata": {},
   "outputs": [],
   "source": [
    "import numpy as np\n",
    "import torch\n",
    "import matplotlib.pyplot as plt"
   ]
  },
  {
   "cell_type": "code",
   "execution_count": null,
   "metadata": {},
   "outputs": [],
   "source": [
    "def avg_norm(p, dim=100, num_iters=10000):\n",
    "    sum_norm = 0\n",
    "    for i in range(num_iters):\n",
    "        sum_norm += torch.randn(dim).norm(p=p)\n",
    "    return sum_norm/num_iters"
   ]
  },
  {
   "cell_type": "code",
   "execution_count": null,
   "metadata": {},
   "outputs": [],
   "source": [
    "avg_norm(0.5,1000)"
   ]
  },
  {
   "cell_type": "code",
   "execution_count": null,
   "metadata": {},
   "outputs": [],
   "source": [
    "ps = np.linspace(0.1,1,10)\n",
    "dims = np.array(list(range(10,110,10)))"
   ]
  },
  {
   "cell_type": "code",
   "execution_count": null,
   "metadata": {},
   "outputs": [],
   "source": [
    "norms = torch.zeros(10, 10)\n",
    "for p_id, p in enumerate(ps):\n",
    "    for dim_id, dim in enumerate(dims):\n",
    "        norms[p_id][dim_id] = avg_norm(p, dim, num_iters=10000)"
   ]
  },
  {
   "cell_type": "code",
   "execution_count": null,
   "metadata": {},
   "outputs": [],
   "source": [
    "theory_norms = torch.zeros(10, 10)\n",
    "for p_id, p in enumerate(ps):\n",
    "    for dim_id, dim in enumerate(dims):\n",
    "        theory_norms[p_id][dim_id] = dim**(1/p) * np.sqrt(2/np.pi)"
   ]
  },
  {
   "cell_type": "code",
   "execution_count": null,
   "metadata": {},
   "outputs": [],
   "source": [
    "norms"
   ]
  },
  {
   "cell_type": "code",
   "execution_count": null,
   "metadata": {},
   "outputs": [],
   "source": [
    "theory_norms"
   ]
  },
  {
   "cell_type": "code",
   "execution_count": null,
   "metadata": {},
   "outputs": [],
   "source": [
    "p_id = -1\n",
    "p = ps[p_id]\n",
    "plt.plot(dims, norms[p_id], label=\"empirical\")\n",
    "plt.plot(dims, dims**(1/p)*np.sqrt(2/np.pi), label=\"theory\")\n",
    "plt.legend()"
   ]
  },
  {
   "cell_type": "code",
   "execution_count": null,
   "metadata": {},
   "outputs": [],
   "source": [
    "avg_norm(p=2,dim=1)"
   ]
  },
  {
   "cell_type": "code",
   "execution_count": null,
   "metadata": {},
   "outputs": [],
   "source": []
  }
 ],
 "metadata": {
  "kernelspec": {
   "display_name": "mats_sae_training",
   "language": "python",
   "name": "python3"
  },
  "language_info": {
   "codemirror_mode": {
    "name": "ipython",
    "version": 3
   },
   "file_extension": ".py",
   "mimetype": "text/x-python",
   "name": "python",
   "nbconvert_exporter": "python",
   "pygments_lexer": "ipython3",
   "version": "3.11.8"
  }
 },
 "nbformat": 4,
 "nbformat_minor": 2
}
